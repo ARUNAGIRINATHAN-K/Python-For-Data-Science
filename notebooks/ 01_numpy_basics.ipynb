{
 "cells": [
  {
   "cell_type": "code",
   "execution_count": 1,
   "id": "459f50fb",
   "metadata": {},
   "outputs": [],
   "source": [
    "import numpy as np"
   ]
  },
  {
   "cell_type": "code",
   "execution_count": 2,
   "id": "352749bd",
   "metadata": {},
   "outputs": [
    {
     "name": "stdout",
     "output_type": "stream",
     "text": [
      "1D Array: [1 2 3]\n",
      "2D Array:\n",
      " [[1 2]\n",
      " [3 4]]\n"
     ]
    }
   ],
   "source": [
    "# 1D Array\n",
    "a = np.array([1, 2, 3])\n",
    "print(\"1D Array:\", a)\n",
    "\n",
    "# 2D Array\n",
    "b = np.array([[1, 2], [3, 4]])\n",
    "print(\"2D Array:\\n\", b)\n"
   ]
  },
  {
   "cell_type": "code",
   "execution_count": null,
   "id": "3306a377",
   "metadata": {},
   "outputs": [],
   "source": [
    "print(\"Shape of b:\", b.shape)\n",
    "print(\"Dimensions:\", b.ndim)\n",
    "print(\"Data Type:\", b.dtype)\n",
    "print(\"Size (total elements):\", b.size)"
   ]
  },
  {
   "cell_type": "code",
   "execution_count": 3,
   "id": "e0b9e6d6",
   "metadata": {},
   "outputs": [
    {
     "name": "stdout",
     "output_type": "stream",
     "text": [
      "Addition: [11 22 33]\n",
      "Multiplication: [10 40 90]\n",
      "Division: [10. 10. 10.]\n"
     ]
    }
   ],
   "source": [
    "a = np.array([10, 20, 30])\n",
    "b = np.array([1, 2, 3])\n",
    "\n",
    "# Element-wise addition\n",
    "print(\"Addition:\", a + b)\n",
    "\n",
    "# Subtraction, Multiplication, Division\n",
    "print(\"Multiplication:\", a * b)\n",
    "print(\"Division:\", a / b)\n"
   ]
  },
  {
   "cell_type": "code",
   "execution_count": 4,
   "id": "6ab96a8e",
   "metadata": {},
   "outputs": [
    {
     "name": "stdout",
     "output_type": "stream",
     "text": [
      "Zeros:\n",
      " [[0. 0. 0.]\n",
      " [0. 0. 0.]]\n",
      "Ones:\n",
      " [[1. 1. 1.]\n",
      " [1. 1. 1.]\n",
      " [1. 1. 1.]]\n",
      "Arange:\n",
      " [0 2 4 6 8]\n",
      "Linspace:\n",
      " [0.   0.25 0.5  0.75 1.  ]\n"
     ]
    }
   ],
   "source": [
    "print(\"Zeros:\\n\", np.zeros((2, 3)))\n",
    "print(\"Ones:\\n\", np.ones((3, 3)))\n",
    "print(\"Arange:\\n\", np.arange(0, 10, 2))\n",
    "print(\"Linspace:\\n\", np.linspace(0, 1, 5))\n"
   ]
  }
 ],
 "metadata": {
  "kernelspec": {
   "display_name": "Python 3",
   "language": "python",
   "name": "python3"
  },
  "language_info": {
   "codemirror_mode": {
    "name": "ipython",
    "version": 3
   },
   "file_extension": ".py",
   "mimetype": "text/x-python",
   "name": "python",
   "nbconvert_exporter": "python",
   "pygments_lexer": "ipython3",
   "version": "3.12.1"
  }
 },
 "nbformat": 4,
 "nbformat_minor": 5
}
