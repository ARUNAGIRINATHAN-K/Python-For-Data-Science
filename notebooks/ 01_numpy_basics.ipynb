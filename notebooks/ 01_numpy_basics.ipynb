{
 "cells": [
  {
   "cell_type": "code",
   "execution_count": 1,
   "id": "459f50fb",
   "metadata": {},
   "outputs": [],
   "source": [
    "import numpy as np"
   ]
  },
  {
   "cell_type": "code",
   "execution_count": 2,
   "id": "352749bd",
   "metadata": {},
   "outputs": [
    {
     "name": "stdout",
     "output_type": "stream",
     "text": [
      "1D Array: [1 2 3]\n",
      "2D Array:\n",
      " [[1 2]\n",
      " [3 4]]\n"
     ]
    }
   ],
   "source": [
    "# 1D Array\n",
    "a = np.array([1, 2, 3])\n",
    "print(\"1D Array:\", a)\n",
    "\n",
    "# 2D Array\n",
    "b = np.array([[1, 2], [3, 4]])\n",
    "print(\"2D Array:\\n\", b)\n"
   ]
  },
  {
   "cell_type": "code",
   "execution_count": null,
   "id": "3306a377",
   "metadata": {},
   "outputs": [],
   "source": [
    "print(\"Shape of b:\", b.shape)\n",
    "print(\"Dimensions:\", b.ndim)\n",
    "print(\"Data Type:\", b.dtype)\n",
    "print(\"Size (total elements):\", b.size)"
   ]
  },
  {
   "cell_type": "code",
   "execution_count": 3,
   "id": "e0b9e6d6",
   "metadata": {},
   "outputs": [
    {
     "name": "stdout",
     "output_type": "stream",
     "text": [
      "Addition: [11 22 33]\n",
      "Multiplication: [10 40 90]\n",
      "Division: [10. 10. 10.]\n"
     ]
    }
   ],
   "source": [
    "a = np.array([10, 20, 30])\n",
    "b = np.array([1, 2, 3])\n",
    "\n",
    "# Element-wise addition\n",
    "print(\"Addition:\", a + b)\n",
    "\n",
    "# Subtraction, Multiplication, Division\n",
    "print(\"Multiplication:\", a * b)\n",
    "print(\"Division:\", a / b)\n"
   ]
  },
  {
   "cell_type": "code",
   "execution_count": 4,
   "id": "6ab96a8e",
   "metadata": {},
   "outputs": [
    {
     "name": "stdout",
     "output_type": "stream",
     "text": [
      "Zeros:\n",
      " [[0. 0. 0.]\n",
      " [0. 0. 0.]]\n",
      "Ones:\n",
      " [[1. 1. 1.]\n",
      " [1. 1. 1.]\n",
      " [1. 1. 1.]]\n",
      "Arange:\n",
      " [0 2 4 6 8]\n",
      "Linspace:\n",
      " [0.   0.25 0.5  0.75 1.  ]\n"
     ]
    }
   ],
   "source": [
    "print(\"Zeros:\\n\", np.zeros((2, 3)))\n",
    "print(\"Ones:\\n\", np.ones((3, 3)))\n",
    "print(\"Arange:\\n\", np.arange(0, 10, 2))\n",
    "print(\"Linspace:\\n\", np.linspace(0, 1, 5))\n"
   ]
  },
  {
   "cell_type": "code",
   "execution_count": 5,
   "id": "7d91360d",
   "metadata": {},
   "outputs": [
    {
     "name": "stdout",
     "output_type": "stream",
     "text": [
      "Reshaped 3x3:\n",
      " [[1 2 3]\n",
      " [4 5 6]\n",
      " [7 8 9]]\n",
      "Element at [1,2]: 6\n",
      "First row: [1 2 3]\n"
     ]
    }
   ],
   "source": [
    "arr = np.arange(1, 10)\n",
    "reshaped = arr.reshape(3, 3)\n",
    "print(\"Reshaped 3x3:\\n\", reshaped)\n",
    "\n",
    "# Indexing\n",
    "print(\"Element at [1,2]:\", reshaped[1, 2])\n",
    "print(\"First row:\", reshaped[0])\n"
   ]
  },
  {
   "cell_type": "code",
   "execution_count": 6,
   "id": "10b3bf65",
   "metadata": {},
   "outputs": [
    {
     "name": "stdout",
     "output_type": "stream",
     "text": [
      "Sum: 45\n",
      "Mean: 5.0\n",
      "Standard Deviation: 2.581988897471611\n"
     ]
    }
   ],
   "source": [
    "print(\"Sum:\", reshaped.sum())\n",
    "print(\"Mean:\", reshaped.mean())\n",
    "print(\"Standard Deviation:\", reshaped.std())"
   ]
  },
  {
   "cell_type": "code",
   "execution_count": 7,
   "id": "5125ba5a",
   "metadata": {},
   "outputs": [
    {
     "name": "stdout",
     "output_type": "stream",
     "text": [
      "Greater than 5:\n",
      " [[False False False]\n",
      " [False False  True]\n",
      " [ True  True  True]]\n",
      "Filtered Values > 5:\n",
      " [6 7 8 9]\n"
     ]
    }
   ],
   "source": [
    "print(\"Greater than 5:\\n\", reshaped > 5)\n",
    "print(\"Filtered Values > 5:\\n\", reshaped[reshaped > 5])"
   ]
  },
  {
   "cell_type": "code",
   "execution_count": 8,
   "id": "caf1ed39",
   "metadata": {},
   "outputs": [
    {
     "name": "stdout",
     "output_type": "stream",
     "text": [
      "Broadcasted Addition:\n",
      " [[2 2]\n",
      " [4 4]]\n"
     ]
    }
   ],
   "source": [
    "matrix = np.array([[1, 2], [3, 4]])\n",
    "vector = np.array([1, 0])\n",
    "\n",
    "print(\"Broadcasted Addition:\\n\", matrix + vector)"
   ]
  }
 ],
 "metadata": {
  "kernelspec": {
   "display_name": "Python 3",
   "language": "python",
   "name": "python3"
  },
  "language_info": {
   "codemirror_mode": {
    "name": "ipython",
    "version": 3
   },
   "file_extension": ".py",
   "mimetype": "text/x-python",
   "name": "python",
   "nbconvert_exporter": "python",
   "pygments_lexer": "ipython3",
   "version": "3.12.1"
  }
 },
 "nbformat": 4,
 "nbformat_minor": 5
}
