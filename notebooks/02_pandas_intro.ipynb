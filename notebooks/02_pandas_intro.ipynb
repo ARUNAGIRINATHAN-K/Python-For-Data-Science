{
 "cells": [
  {
   "cell_type": "code",
   "execution_count": 1,
   "id": "98d0a6f5",
   "metadata": {},
   "outputs": [],
   "source": [
    "# Importing Pandas\n",
    "import pandas as pd"
   ]
  },
  {
   "cell_type": "markdown",
   "id": "4cee0009",
   "metadata": {},
   "source": [
    "Introduction\n",
    "Pandas is an essential Python library used for data manipulation and analysis. It provides two main data structures:\n",
    "\n",
    "Series – One-dimensional labeled array\n",
    "\n",
    "DataFrame – Two-dimensional labeled data table"
   ]
  },
  {
   "cell_type": "code",
   "execution_count": 2,
   "id": "dd08715d",
   "metadata": {},
   "outputs": [
    {
     "name": "stdout",
     "output_type": "stream",
     "text": [
      "a    10\n",
      "b    20\n",
      "c    30\n",
      "d    40\n",
      "dtype: int64\n"
     ]
    }
   ],
   "source": [
    "# Creating a Series\n",
    "s = pd.Series([10, 20, 30, 40], index=['a', 'b', 'c', 'd'])\n",
    "print(s)"
   ]
  }
 ],
 "metadata": {
  "kernelspec": {
   "display_name": "Python 3",
   "language": "python",
   "name": "python3"
  },
  "language_info": {
   "codemirror_mode": {
    "name": "ipython",
    "version": 3
   },
   "file_extension": ".py",
   "mimetype": "text/x-python",
   "name": "python",
   "nbconvert_exporter": "python",
   "pygments_lexer": "ipython3",
   "version": "3.12.1"
  }
 },
 "nbformat": 4,
 "nbformat_minor": 5
}
